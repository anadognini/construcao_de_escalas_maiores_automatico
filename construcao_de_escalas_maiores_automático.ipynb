{
  "nbformat": 4,
  "nbformat_minor": 0,
  "metadata": {
    "colab": {
      "provenance": []
    },
    "kernelspec": {
      "name": "python3",
      "display_name": "Python 3"
    },
    "language_info": {
      "name": "python"
    }
  },
  "cells": [
    {
      "cell_type": "markdown",
      "source": [
        "#### Construção de escalas maiores (automatizada em Python)"
      ],
      "metadata": {
        "id": "wB2E_faELDkN"
      }
    },
    {
      "cell_type": "code",
      "execution_count": null,
      "metadata": {
        "colab": {
          "base_uri": "https://localhost:8080/"
        },
        "id": "wjINue6iJZbq",
        "outputId": "802c38b2-0ccc-4db8-8585-93eb5a6c018a"
      },
      "outputs": [
        {
          "output_type": "stream",
          "name": "stdout",
          "text": [
            "['G', 'A', 'B', 'C', 'D', 'E', 'F#', 'G']\n"
          ]
        }
      ],
      "source": [
        "notes = ['C', 'C#', 'D', 'D#', 'E', 'F', 'F#', 'G', 'G#', 'A', 'A#', 'B']\n",
        "major_intervals = [2, 2, 1, 2, 2, 2, 1]\n",
        "\n",
        "def build_scale(start_note, intervals):\n",
        "    scale = [start_note]\n",
        "    i = notes.index(start_note)\n",
        "\n",
        "    for step in intervals:\n",
        "      i = (i + step) % 12\n",
        "      scale.append(notes[i])\n",
        "    return scale\n",
        "\n",
        "print(build_scale('G', major_intervals))\n",
        "\n",
        "# G – A – B – C – D – E – F♯ – G"
      ]
    },
    {
      "cell_type": "code",
      "source": [
        "print(build_scale('D', major_intervals))\n",
        "\n",
        "# D – E – F♯ – G – A – B – C♯ – D"
      ],
      "metadata": {
        "colab": {
          "base_uri": "https://localhost:8080/"
        },
        "id": "B9U5Lwg_KA2j",
        "outputId": "40fcb461-db5b-4091-e3b3-8063d3015261"
      },
      "execution_count": null,
      "outputs": [
        {
          "output_type": "stream",
          "name": "stdout",
          "text": [
            "['D', 'E', 'F#', 'G', 'A', 'B', 'C#', 'D']\n"
          ]
        }
      ]
    },
    {
      "cell_type": "code",
      "source": [
        "print(build_scale('E', major_intervals))\n",
        "\n",
        "# E – F♯ – G♯ – A – B – C♯ – D♯ – E"
      ],
      "metadata": {
        "colab": {
          "base_uri": "https://localhost:8080/"
        },
        "id": "NwlZpQafPjat",
        "outputId": "decb92e9-6577-427e-d7e2-527d701d6d6d"
      },
      "execution_count": null,
      "outputs": [
        {
          "output_type": "stream",
          "name": "stdout",
          "text": [
            "['E', 'F#', 'G#', 'A', 'B', 'C#', 'D#', 'E']\n"
          ]
        }
      ]
    }
  ]
}